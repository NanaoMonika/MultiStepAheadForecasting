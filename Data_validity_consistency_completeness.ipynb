{
 "cells": [
  {
   "cell_type": "code",
   "execution_count": 1,
   "metadata": {
    "collapsed": true
   },
   "outputs": [],
   "source": [
    "import pandas as pd\n",
    "import numpy as np\n",
    "import matplotlib\n",
    "%matplotlib inline \n",
    "import matplotlib.pyplot as plt\n",
    "import config\n",
    "from os.path import join\n",
    "dataDir = config.DATADIR\n",
    "from utils import loadData"
   ]
  },
  {
   "cell_type": "code",
   "execution_count": 2,
   "metadata": {
    "collapsed": true
   },
   "outputs": [],
   "source": [
    "df_A_R,df_A_S,df_A_V,df_H_R,df_H_S,df_date,df_S_id=loadData()"
   ]
  },
  {
   "cell_type": "markdown",
   "metadata": {},
   "source": [
    "# Missing values"
   ]
  },
  {
   "cell_type": "markdown",
   "metadata": {},
   "source": [
    "There is not missing data."
   ]
  },
  {
   "cell_type": "markdown",
   "metadata": {},
   "source": [
    "# Data  consistency and validity"
   ]
  },
  {
   "cell_type": "markdown",
   "metadata": {},
   "source": [
    "In this section we check if the data values are consistent and valid."
   ]
  },
  {
   "cell_type": "markdown",
   "metadata": {},
   "source": [
    "## Validity of foreign keys"
   ]
  },
  {
   "cell_type": "markdown",
   "metadata": {},
   "source": [
    "In this section we check if each `store_id` in the `reserve` table exists in the `store` table."
   ]
  },
  {
   "cell_type": "markdown",
   "metadata": {},
   "source": [
    "###  hpg"
   ]
  },
  {
   "cell_type": "code",
   "execution_count": 11,
   "metadata": {},
   "outputs": [
    {
     "name": "stdout",
     "output_type": "stream",
     "text": [
      "there are 13325 unique store ids in hpg-reserve table.\n",
      "there are 4690 unique store ids in hpg-store table.\n"
     ]
    }
   ],
   "source": [
    "df=df_H_R.hpg_store_id.describe()\n",
    "print('there are {} unique store ids in hpg-reserve table.'.format(df['unique']))\n",
    "print('there are {} unique store ids in hpg-store table.'.format(df_H_S.hpg_store_id.unique().size))"
   ]
  },
  {
   "cell_type": "markdown",
   "metadata": {},
   "source": [
    "So, there are many stores ids in the resesrve table which do not exist in the store table. The transactions related to these stores should be deleted from the reserve table because we cannot join them with the store table."
   ]
  },
  {
   "cell_type": "markdown",
   "metadata": {},
   "source": [
    "### air "
   ]
  },
  {
   "cell_type": "code",
   "execution_count": 12,
   "metadata": {
    "scrolled": true
   },
   "outputs": [
    {
     "name": "stdout",
     "output_type": "stream",
     "text": [
      "there are 314 unique store ids in air-reserve table.\n",
      "there are 829 unique store ids in air-store table.\n"
     ]
    }
   ],
   "source": [
    "df=df_A_R.air_store_id.describe()\n",
    "print('there are {} unique store ids in air-reserve table.'.format(df['unique']))\n",
    "print('there are {} unique store ids in air-store table.'.format(df_A_S.air_store_id.unique().size))"
   ]
  },
  {
   "cell_type": "code",
   "execution_count": 13,
   "metadata": {},
   "outputs": [
    {
     "data": {
      "text/html": [
       "<div>\n",
       "<style>\n",
       "    .dataframe thead tr:only-child th {\n",
       "        text-align: right;\n",
       "    }\n",
       "\n",
       "    .dataframe thead th {\n",
       "        text-align: left;\n",
       "    }\n",
       "\n",
       "    .dataframe tbody tr th {\n",
       "        vertical-align: top;\n",
       "    }\n",
       "</style>\n",
       "<table border=\"1\" class=\"dataframe\">\n",
       "  <thead>\n",
       "    <tr style=\"text-align: right;\">\n",
       "      <th></th>\n",
       "      <th>air_store_id</th>\n",
       "    </tr>\n",
       "  </thead>\n",
       "  <tbody>\n",
       "  </tbody>\n",
       "</table>\n",
       "</div>"
      ],
      "text/plain": [
       "Empty DataFrame\n",
       "Columns: [air_store_id]\n",
       "Index: []"
      ]
     },
     "execution_count": 13,
     "metadata": {},
     "output_type": "execute_result"
    }
   ],
   "source": [
    "df=pd.DataFrame({'air_store_id':df_A_R.air_store_id.unique()})\n",
    "df[~df.air_store_id.isin(df_A_S.air_store_id)]"
   ]
  },
  {
   "cell_type": "markdown",
   "metadata": {},
   "source": [
    "So for the air dataset, all store ids in the reserve table exist in the store table."
   ]
  },
  {
   "cell_type": "markdown",
   "metadata": {},
   "source": [
    "## Reserve date should be less than Visit date"
   ]
  },
  {
   "cell_type": "code",
   "execution_count": 6,
   "metadata": {},
   "outputs": [
    {
     "data": {
      "text/plain": [
       "(0, 4)"
      ]
     },
     "execution_count": 6,
     "metadata": {},
     "output_type": "execute_result"
    }
   ],
   "source": [
    "df_A_R[df_A_R['visit_datetime']<df_A_R['reserve_datetime']].shape"
   ]
  },
  {
   "cell_type": "code",
   "execution_count": 7,
   "metadata": {},
   "outputs": [
    {
     "data": {
      "text/plain": [
       "(0, 4)"
      ]
     },
     "execution_count": 7,
     "metadata": {},
     "output_type": "execute_result"
    }
   ],
   "source": [
    "df_H_R[df_H_R['visit_datetime']<df_H_R['reserve_datetime']].shape"
   ]
  },
  {
   "cell_type": "markdown",
   "metadata": {
    "collapsed": true
   },
   "source": [
    "## Validity of latitude and longitude values"
   ]
  },
  {
   "cell_type": "code",
   "execution_count": 18,
   "metadata": {},
   "outputs": [
    {
     "data": {
      "text/html": [
       "<div>\n",
       "<style>\n",
       "    .dataframe thead tr:only-child th {\n",
       "        text-align: right;\n",
       "    }\n",
       "\n",
       "    .dataframe thead th {\n",
       "        text-align: left;\n",
       "    }\n",
       "\n",
       "    .dataframe tbody tr th {\n",
       "        vertical-align: top;\n",
       "    }\n",
       "</style>\n",
       "<table border=\"1\" class=\"dataframe\">\n",
       "  <thead>\n",
       "    <tr style=\"text-align: right;\">\n",
       "      <th></th>\n",
       "      <th>count</th>\n",
       "      <th>mean</th>\n",
       "      <th>std</th>\n",
       "      <th>min</th>\n",
       "      <th>25%</th>\n",
       "      <th>50%</th>\n",
       "      <th>75%</th>\n",
       "      <th>max</th>\n",
       "    </tr>\n",
       "  </thead>\n",
       "  <tbody>\n",
       "    <tr>\n",
       "      <th>longitude</th>\n",
       "      <td>829.0</td>\n",
       "      <td>137.415311</td>\n",
       "      <td>3.650971</td>\n",
       "      <td>130.195555</td>\n",
       "      <td>135.341564</td>\n",
       "      <td>139.685474</td>\n",
       "      <td>139.751599</td>\n",
       "      <td>144.273398</td>\n",
       "    </tr>\n",
       "    <tr>\n",
       "      <th>latitude</th>\n",
       "      <td>829.0</td>\n",
       "      <td>35.647042</td>\n",
       "      <td>2.084659</td>\n",
       "      <td>33.211967</td>\n",
       "      <td>34.695124</td>\n",
       "      <td>35.658068</td>\n",
       "      <td>35.694003</td>\n",
       "      <td>44.020632</td>\n",
       "    </tr>\n",
       "    <tr>\n",
       "      <th>longitude</th>\n",
       "      <td>4690.0</td>\n",
       "      <td>137.675816</td>\n",
       "      <td>3.197233</td>\n",
       "      <td>130.339313</td>\n",
       "      <td>135.498859</td>\n",
       "      <td>139.495733</td>\n",
       "      <td>139.737998</td>\n",
       "      <td>143.714585</td>\n",
       "    </tr>\n",
       "    <tr>\n",
       "      <th>latitude</th>\n",
       "      <td>4690.0</td>\n",
       "      <td>35.810261</td>\n",
       "      <td>2.138755</td>\n",
       "      <td>33.311645</td>\n",
       "      <td>34.692109</td>\n",
       "      <td>35.659214</td>\n",
       "      <td>35.703381</td>\n",
       "      <td>43.774846</td>\n",
       "    </tr>\n",
       "  </tbody>\n",
       "</table>\n",
       "</div>"
      ],
      "text/plain": [
       "            count        mean       std         min         25%         50%  \\\n",
       "longitude   829.0  137.415311  3.650971  130.195555  135.341564  139.685474   \n",
       "latitude    829.0   35.647042  2.084659   33.211967   34.695124   35.658068   \n",
       "longitude  4690.0  137.675816  3.197233  130.339313  135.498859  139.495733   \n",
       "latitude   4690.0   35.810261  2.138755   33.311645   34.692109   35.659214   \n",
       "\n",
       "                  75%         max  \n",
       "longitude  139.751599  144.273398  \n",
       "latitude    35.694003   44.020632  \n",
       "longitude  139.737998  143.714585  \n",
       "latitude    35.703381   43.774846  "
      ]
     },
     "execution_count": 18,
     "metadata": {},
     "output_type": "execute_result"
    }
   ],
   "source": [
    "pd.DataFrame([df_A_S.longitude.describe(),df_A_S.latitude.describe(),\n",
    "              df_H_S.longitude.describe(),df_H_S.latitude.describe()])"
   ]
  },
  {
   "cell_type": "markdown",
   "metadata": {
    "collapsed": true
   },
   "source": [
    "Minimum and maximum values for both tables are in reasonable ranges."
   ]
  },
  {
   "cell_type": "markdown",
   "metadata": {},
   "source": [
    "## Joining the two datasets"
   ]
  },
  {
   "cell_type": "markdown",
   "metadata": {},
   "source": [
    "There are only 150 stores which have data in both air and hpg datasets. The number of stores in each dataset is:"
   ]
  },
  {
   "cell_type": "code",
   "execution_count": 58,
   "metadata": {},
   "outputs": [
    {
     "name": "stdout",
     "output_type": "stream",
     "text": [
      "(829, 4690)\n"
     ]
    }
   ],
   "source": [
    "air_unique_stores = df_A_S.air_store_id.unique().size\n",
    "hpg_unique_stores = df_H_S.hpg_store_id.unique().size\n",
    "print((air_unique_stores,hpg_unique_stores))"
   ]
  },
  {
   "cell_type": "markdown",
   "metadata": {
    "collapsed": true
   },
   "source": [
    "## Consistancy of lat and lon values in hpg and air"
   ]
  },
  {
   "cell_type": "markdown",
   "metadata": {},
   "source": [
    "Here we check if the lat and lon values for those stores in both dataset are consistent."
   ]
  },
  {
   "cell_type": "code",
   "execution_count": 33,
   "metadata": {},
   "outputs": [
    {
     "data": {
      "text/plain": [
       "Text(0.5,0,u'difference in lon')"
      ]
     },
     "execution_count": 33,
     "metadata": {},
     "output_type": "execute_result"
    },
    {
     "data": {
      "image/png": "[encoded data removed]",
      "text/plain": [
       "<matplotlib.figure.Figure at 0x7f98eb94ec10>"
      ]
     },
     "metadata": {},
     "output_type": "display_data"
    }
   ],
   "source": [
    "df=df_S_id.merge(df_A_S,on=['air_store_id']).merge(df_H_S,on='hpg_store_id')\n",
    "fig=plt.figure(figsize=(10,3))\n",
    "fig.add_subplot(121)\n",
    "_=(df.latitude_x-df.latitude_y).plot.hist(bins=50)\n",
    "plt.xlabel('difference in lat')\n",
    "fig.add_subplot(122)\n",
    "_=(df.longitude_x-df.longitude_y).plot.hist(bins=50)\n",
    "plt.xlabel('difference in lon')"
   ]
  },
  {
   "cell_type": "markdown",
   "metadata": {
    "collapsed": true
   },
   "source": [
    "There is one store whose difference in longitude is larger than 0.2. We identify it:"
   ]
  },
  {
   "cell_type": "code",
   "execution_count": 34,
   "metadata": {},
   "outputs": [
    {
     "data": {
      "text/html": [
       "<div>\n",
       "<style>\n",
       "    .dataframe thead tr:only-child th {\n",
       "        text-align: right;\n",
       "    }\n",
       "\n",
       "    .dataframe thead th {\n",
       "        text-align: left;\n",
       "    }\n",
       "\n",
       "    .dataframe tbody tr th {\n",
       "        vertical-align: top;\n",
       "    }\n",
       "</style>\n",
       "<table border=\"1\" class=\"dataframe\">\n",
       "  <thead>\n",
       "    <tr style=\"text-align: right;\">\n",
       "      <th></th>\n",
       "      <th>air_store_id</th>\n",
       "      <th>hpg_store_id</th>\n",
       "      <th>air_genre_name</th>\n",
       "      <th>air_area_name</th>\n",
       "      <th>latitude_x</th>\n",
       "      <th>longitude_x</th>\n",
       "      <th>hpg_genre_name</th>\n",
       "      <th>hpg_area_name</th>\n",
       "      <th>latitude_y</th>\n",
       "      <th>longitude_y</th>\n",
       "    </tr>\n",
       "  </thead>\n",
       "  <tbody>\n",
       "    <tr>\n",
       "      <th>39</th>\n",
       "      <td>air_640cf4835f0d9ba3</td>\n",
       "      <td>hpg_e63863c8987bd064</td>\n",
       "      <td>Izakaya</td>\n",
       "      <td>Tōkyō-to Ōta-ku Kamata</td>\n",
       "      <td>35.561257</td>\n",
       "      <td>139.716051</td>\n",
       "      <td>Japanese style</td>\n",
       "      <td>Kanagawa-ken Yokohama-shi Nagatsutachō</td>\n",
       "      <td>35.512762</td>\n",
       "      <td>139.495733</td>\n",
       "    </tr>\n",
       "  </tbody>\n",
       "</table>\n",
       "</div>"
      ],
      "text/plain": [
       "            air_store_id          hpg_store_id air_genre_name  \\\n",
       "39  air_640cf4835f0d9ba3  hpg_e63863c8987bd064        Izakaya   \n",
       "\n",
       "             air_area_name  latitude_x  longitude_x  hpg_genre_name  \\\n",
       "39  Tōkyō-to Ōta-ku Kamata   35.561257   139.716051  Japanese style   \n",
       "\n",
       "                             hpg_area_name  latitude_y  longitude_y  \n",
       "39  Kanagawa-ken Yokohama-shi Nagatsutachō   35.512762   139.495733  "
      ]
     },
     "execution_count": 34,
     "metadata": {},
     "output_type": "execute_result"
    }
   ],
   "source": [
    "df[(df.longitude_x-df.longitude_y)>.2]"
   ]
  },
  {
   "cell_type": "markdown",
   "metadata": {
    "collapsed": true
   },
   "source": [
    "However this is not the case for `area_name` and `genre_name`:"
   ]
  },
  {
   "cell_type": "code",
   "execution_count": 36,
   "metadata": {},
   "outputs": [
    {
     "data": {
      "text/plain": [
       "(58, 10)"
      ]
     },
     "execution_count": 36,
     "metadata": {},
     "output_type": "execute_result"
    }
   ],
   "source": [
    "df[df.air_area_name!=df.hpg_area_name].shape"
   ]
  },
  {
   "cell_type": "code",
   "execution_count": 59,
   "metadata": {},
   "outputs": [
    {
     "data": {
      "text/plain": [
       "(62, 10)"
      ]
     },
     "execution_count": 59,
     "metadata": {},
     "output_type": "execute_result"
    }
   ],
   "source": [
    "df[df.air_genre_name!=df.hpg_genre_name].shape"
   ]
  },
  {
   "cell_type": "code",
   "execution_count": 40,
   "metadata": {},
   "outputs": [
    {
     "data": {
      "text/plain": [
       "829"
      ]
     },
     "execution_count": 40,
     "metadata": {},
     "output_type": "execute_result"
    }
   ],
   "source": [
    "df_A_S.air_store_id.unique().size"
   ]
  },
  {
   "cell_type": "markdown",
   "metadata": {
    "collapsed": true
   },
   "source": [
    "So it does not seem that joining the two datasets will be much helpful."
   ]
  },
  {
   "cell_type": "markdown",
   "metadata": {},
   "source": [
    "# Distance between stores in air and hpg datasets "
   ]
  },
  {
   "cell_type": "markdown",
   "metadata": {},
   "source": [
    "In this section we compute and visualize the distance between each store in the air dataset and the stores in the hpg dataset. The goal here is to see if for each store in the air dataset we can find a store in the hpg using the distance. "
   ]
  },
  {
   "cell_type": "code",
   "execution_count": 38,
   "metadata": {
    "collapsed": true
   },
   "outputs": [],
   "source": [
    "n_hpg=df_H_S.shape[0];n_air=df_A_S.shape[0];\n",
    "lat_hpg=df_H_S.latitude.values.reshape((n_hpg,1));lon_hpg=df_H_S.longitude.values.reshape((n_hpg,1))\n",
    "lat_air=df_A_S.latitude.values.reshape((n_air,1));lon_air=df_A_S.longitude.values.reshape((n_air,1))\n",
    "\n",
    "lat_dist = np.tile(lat_air**2,(1,n_hpg))+\\\n",
    "           np.tile(lat_hpg.transpose()**2,(n_air,1))-\\\n",
    "           2*np.dot(lat_air,lat_hpg.transpose())\n",
    "lon_dist = np.tile(lon_air**2,(1,n_hpg))+\\\n",
    "           np.tile(lon_hpg.transpose()**2,(n_air,1))-\\\n",
    "           2*np.dot(lon_air,lon_hpg.transpose())\n",
    "dist = np.sqrt(lat_dist+lon_dist)        "
   ]
  },
  {
   "cell_type": "code",
   "execution_count": 40,
   "metadata": {},
   "outputs": [
    {
     "data": {
      "image/png": "[encoded data removed]",
      "text/plain": [
       "<matplotlib.figure.Figure at 0x7feadcc63e50>"
      ]
     },
     "metadata": {},
     "output_type": "display_data"
    }
   ],
   "source": [
    "_=plt.hist(dist.min(axis=1),bins=50)"
   ]
  },
  {
   "cell_type": "code",
   "execution_count": 37,
   "metadata": {},
   "outputs": [
    {
     "data": {
      "text/plain": [
       "(829, 4690)"
      ]
     },
     "execution_count": 37,
     "metadata": {},
     "output_type": "execute_result"
    }
   ],
   "source": [
    "dist.shape"
   ]
  },
  {
   "cell_type": "markdown",
   "metadata": {
    "collapsed": true
   },
   "source": [
    "# Conclusion"
   ]
  },
  {
   "cell_type": "markdown",
   "metadata": {},
   "source": [
    "+ delete those transactions in the `hpg-reserve` table whose store id does not exist in the store table."
   ]
  }
 ],
 "metadata": {
  "kernelspec": {
   "display_name": "Python 2",
   "language": "python",
   "name": "python2"
  },
  "language_info": {
   "codemirror_mode": {
    "name": "ipython",
    "version": 2
   },
   "file_extension": ".py",
   "mimetype": "text/x-python",
   "name": "python",
   "nbconvert_exporter": "python",
   "pygments_lexer": "ipython2",
   "version": "2.7.14"
  }
 },
 "nbformat": 4,
 "nbformat_minor": 2
}
